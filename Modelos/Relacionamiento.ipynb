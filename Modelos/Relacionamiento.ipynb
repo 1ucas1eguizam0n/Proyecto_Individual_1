{
 "cells": [
  {
   "cell_type": "code",
   "execution_count": 47,
   "metadata": {},
   "outputs": [],
   "source": [
    "import pandas as pd"
   ]
  },
  {
   "cell_type": "code",
   "execution_count": 48,
   "metadata": {},
   "outputs": [],
   "source": [
    "full=pd.read_parquet(r'C:\\Users\\User\\OneDrive\\Documents\\Trabajo\\Henry\\Proyecto Ind. 1\\Datos Limpios\\full_data.parquet')"
   ]
  },
  {
   "cell_type": "code",
   "execution_count": 49,
   "metadata": {},
   "outputs": [],
   "source": [
    "full['Ratting']=full['recommend']+full['sentiment_analysis']"
   ]
  },
  {
   "cell_type": "code",
   "execution_count": 50,
   "metadata": {},
   "outputs": [],
   "source": [
    "prueba=full[['user_id','title','Ratting']]"
   ]
  },
  {
   "cell_type": "code",
   "execution_count": 51,
   "metadata": {},
   "outputs": [],
   "source": [
    "muestra=prueba.sample(frac=0.04, random_state=42)"
   ]
  },
  {
   "cell_type": "code",
   "execution_count": 52,
   "metadata": {},
   "outputs": [],
   "source": [
    "from surprise.model_selection import GridSearchCV, train_test_split\n",
    "from surprise import SVD, Dataset, Reader, accuracy\n"
   ]
  },
  {
   "cell_type": "code",
   "execution_count": 53,
   "metadata": {},
   "outputs": [],
   "source": [
    "reader=Reader(rating_scale=(0, 3)) \n",
    "data=Dataset.load_from_df(muestra,reader)"
   ]
  },
  {
   "cell_type": "code",
   "execution_count": 55,
   "metadata": {},
   "outputs": [
    {
     "name": "stdout",
     "output_type": "stream",
     "text": [
      "Mejores parámetros encontrados: {'n_factors': 100, 'n_epochs': 50, 'lr_all': 0.01, 'reg_all': 0, 'random_state': 42}\n"
     ]
    }
   ],
   "source": [
    "param_grid = {\n",
    "    'n_factors': [0, 100],\n",
    "    'n_epochs': [0, 50],\n",
    "    'lr_all': [0, 0.01],\n",
    "    'reg_all': [0, 0.05],\n",
    "    'random_state': [0, 42]\n",
    "}\n",
    "model = SVD()\n",
    "grid_search = GridSearchCV(SVD, param_grid, measures=['rmse'], cv=3)\n",
    "grid_search.fit(data)\n",
    "best_params = grid_search.best_params['rmse']\n",
    "print(\"Mejores parámetros encontrados:\", best_params)"
   ]
  },
  {
   "cell_type": "code",
   "execution_count": 54,
   "metadata": {},
   "outputs": [
    {
     "name": "stdout",
     "output_type": "stream",
     "text": [
      "RMSE: 0.5529\n",
      "RMSE: 0.5528687229241392\n"
     ]
    }
   ],
   "source": [
    "from surprise import accuracy\n",
    "\n",
    "trainset, testset=train_test_split(data, test_size=0.2)\n",
    "model=SVD(n_factors=100,n_epochs=50,lr_all=0.01,reg_all=0,random_state=42)\n",
    "model.fit(trainset)\n",
    "predictions=model.test(testset)\n",
    "\n",
    "rmse=accuracy.rmse(predictions)\n",
    "print(f\"RMSE: {rmse}\")"
   ]
  },
  {
   "cell_type": "code",
   "execution_count": 56,
   "metadata": {},
   "outputs": [],
   "source": [
    "def recomendaciones_usuario(usuario: str):\n",
    "    predicciones=[]\n",
    "    if usuario not in muestra['user_id'].unique():\n",
    "        juegos_aleatorios = list(muestra['title'].sample(5))\n",
    "        return {f'El usuario {usuario} no posee ningún item en su biblioteca, por lo que la recomendación será aleatoria: {juegos_aleatorios}.'}\n",
    "    else:\n",
    "        diccionario = {}\n",
    "        juegos_valorados = muestra[muestra['user_id'] == usuario]['title'].unique()\n",
    "        todos_los_juegos = muestra['title'].unique()\n",
    "        juegos_no_valorados = list(set(todos_los_juegos) - set(juegos_valorados))\n",
    "        for juego in juegos_no_valorados:\n",
    "            prediccion=model.predict(usuario, juego)\n",
    "            predicciones.append(prediccion)\n",
    "        recomendaciones=sorted(predicciones, key=lambda x: x.est, reverse=True)[:5] \n",
    "        cont = 1\n",
    "        for recomendacion in recomendaciones:\n",
    "            diccionario[f'Top {cont}'] = recomendacion.iid\n",
    "            cont += 1\n",
    "            \n",
    "        return {f'Usuario: {usuario}': diccionario}"
   ]
  },
  {
   "cell_type": "code",
   "execution_count": 57,
   "metadata": {},
   "outputs": [
    {
     "data": {
      "text/plain": [
       "{'Gaaaaary': {'Usuario: Gaaaaary': {'Top 1': 'Team Fortress 2',\n",
       "   'Top 2': 'Castle Crashers®',\n",
       "   'Top 3': 'Max Payne 3',\n",
       "   'Top 4': 'Crush Crush',\n",
       "   'Top 5': 'Portal'}},\n",
       " 'darkedge119': {'Usuario: darkedge119': {'Top 1': 'No More Room in Hell',\n",
       "   'Top 2': 'Goat Simulator',\n",
       "   'Top 3': '911: First Responders®',\n",
       "   'Top 4': 'Echo of Soul',\n",
       "   'Top 5': 'Revenge of the Titans'}},\n",
       " 'razarealm': {'Usuario: razarealm': {'Top 1': 'Portal 2',\n",
       "   'Top 2': 'Counter-Strike: Source',\n",
       "   'Top 3': \"Oddworld: Abe's Oddysee®\",\n",
       "   'Top 4': 'Dungeonland',\n",
       "   'Top 5': 'Grass Simulator'}},\n",
       " 'mysterd': {'Usuario: mysterd': {'Top 1': 'Revenge of the Titans',\n",
       "   'Top 2': 'Brothers - A Tale of Two Sons',\n",
       "   'Top 3': 'Wolfenstein: The New Order',\n",
       "   'Top 4': 'Dungeonland',\n",
       "   'Top 5': 'TinyKeep'}},\n",
       " 'Pyromanic': {'El usuario Pyromanic no posee ningún item en su biblioteca, por lo que la recomendación será aleatoria: [\\'Rust\\', \\'resident evil 4 / biohazard 4\\', \\'RaceRoom Racing Experience\\', \\'Guacamelee! Gold Edition\\', \"Five Nights at Freddy\\'s 3\"].'}}"
      ]
     },
     "execution_count": 57,
     "metadata": {},
     "output_type": "execute_result"
    }
   ],
   "source": [
    "user=prueba['user_id'].unique()\n",
    "diccionario = {}\n",
    "for x in user[:5]:\n",
    "    diccionario[x] = recomendaciones_usuario(x)\n",
    "diccionario"
   ]
  },
  {
   "cell_type": "code",
   "execution_count": 58,
   "metadata": {},
   "outputs": [],
   "source": [
    "import pickle\n",
    "import gzip"
   ]
  },
  {
   "cell_type": "code",
   "execution_count": 59,
   "metadata": {},
   "outputs": [],
   "source": [
    "muestra.to_parquet(r'C:\\Users\\User\\OneDrive\\Documents\\Trabajo\\Henry\\Proyecto Ind. 1\\Datos varios\\relacionamiento_muestra.parquet', compression=\"gzip\")"
   ]
  },
  {
   "cell_type": "code",
   "execution_count": 60,
   "metadata": {},
   "outputs": [],
   "source": [
    "with open(r'C:\\Users\\User\\OneDrive\\Documents\\Trabajo\\Henry\\Proyecto Ind. 1\\Modelos\\Relaciones_muestra.pkl', 'wb') as file:\n",
    "    pickle.dump(model, file)"
   ]
  }
 ],
 "metadata": {
  "kernelspec": {
   "display_name": "Python 3",
   "language": "python",
   "name": "python3"
  },
  "language_info": {
   "codemirror_mode": {
    "name": "ipython",
    "version": 3
   },
   "file_extension": ".py",
   "mimetype": "text/x-python",
   "name": "python",
   "nbconvert_exporter": "python",
   "pygments_lexer": "ipython3",
   "version": "3.12.1"
  }
 },
 "nbformat": 4,
 "nbformat_minor": 2
}
